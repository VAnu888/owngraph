{
  "nbformat": 4,
  "nbformat_minor": 0,
  "metadata": {
    "colab": {
      "provenance": []
    },
    "kernelspec": {
      "name": "python3",
      "display_name": "Python 3"
    },
    "language_info": {
      "name": "python"
    }
  },
  "cells": [
    {
      "cell_type": "markdown",
      "source": [],
      "metadata": {
        "id": "rtwXMIY13nyw"
      }
    },
    {
      "cell_type": "markdown",
      "source": [
        "<h1><b>Create your own graph using Matplotlib</b></h1>"
      ],
      "metadata": {
        "id": "_N-MPxqS3n6a"
      }
    },
    {
      "cell_type": "markdown",
      "source": [
        "You can input upto **5 inputs** for **\"y\"** and **\"x\"** axies in this programme."
      ],
      "metadata": {
        "id": "f9hUD6k-q8RU"
      }
    },
    {
      "cell_type": "code",
      "source": [
        "import matplotlib.pyplot as plt #Import matplotlib to the code\n",
        "\n",
        "title=input(\"Enter your graph title here: \")#Get input for title\n",
        "xlabel=input(\"Enter label for X axes: \")#Get input for X axis label\n",
        "ylabel=input(\"Enter label for Y axes: \")#Get input for Y axis label\n",
        "\n",
        "#Get input for X axis\n",
        "x1=input(\"Enter X axis: \")\n",
        "x2=input(\"Enter X axis: \")\n",
        "x3=input(\"Enter X axis: \")\n",
        "x4=input(\"Enter X axis: \")\n",
        "x5=input(\"Enter X axis: \")\n",
        "\n",
        "#Get input for Y axis\n",
        "y1=int(input(\"Enter Y axis: \"))\n",
        "y2=int(input(\"Enter Y axis: \"))\n",
        "y3=int(input(\"Enter Y axis: \"))\n",
        "y4=int(input(\"Enter Y axis: \"))\n",
        "y5=int(input(\"Enter Y axis: \"))\n",
        "\n",
        "#Build the graph\n",
        "x = [x1, x2, x3, x4,  x5]\n",
        "y = [y1,y2,y3,y4, y5]\n",
        "plt.plot(x, y)\n",
        "plt.ylabel(ylabel)\n",
        "plt.xlabel(xlabel)\n",
        "plt.title(title)\n",
        "plt.show()"
      ],
      "metadata": {
        "id": "X0Xx2OuJ396m"
      },
      "execution_count": null,
      "outputs": []
    }
  ]
}